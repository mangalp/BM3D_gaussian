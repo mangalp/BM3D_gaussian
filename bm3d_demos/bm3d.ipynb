{
 "cells": [
  {
   "cell_type": "code",
   "execution_count": 1,
   "metadata": {
    "collapsed": true
   },
   "outputs": [],
   "source": [
    "\"\"\"\n",
    "Grayscale BM3D denoising demo file, based on Y. Mäkinen, L. Azzari, A. Foi, 2019.\n",
    "Exact Transform-Domain Noise Variance for Collaborative Filtering of Stationary Correlated Noise.\n",
    "In IEEE International Conference on Image Processing (ICIP), pp. 185-189\n",
    "\"\"\"\n",
    "import numpy as np\n",
    "from PIL import Image\n",
    "from tifffile import imread\n",
    "from glob import glob\n",
    "import matplotlib.pyplot as plt\n",
    "from bm3d import bm3d, BM3DProfile, BM3DStages\n",
    "from experiment_funcs import get_experiment_noise, get_psnr, get_cropped_psnr"
   ]
  },
  {
   "cell_type": "code",
   "execution_count": 2,
   "metadata": {
    "collapsed": true
   },
   "outputs": [],
   "source": [
    "def PSNR(gt, img, rangePSNR):\n",
    "    '''\n",
    "    Compute PSNR.\n",
    "    Parameters\n",
    "    ----------\n",
    "    gt: array\n",
    "        Ground truth image.\n",
    "    img: array\n",
    "        Predicted image.''\n",
    "    '''\n",
    "    mse = np.mean(np.square(gt - img))\n",
    "    return 20 * np.log10(rangePSNR) - 10 * np.log10(mse)"
   ]
  },
  {
   "cell_type": "code",
   "execution_count": 6,
   "metadata": {
    "scrolled": true
   },
   "outputs": [
    {
     "name": "stdout",
     "output_type": "stream",
     "text": [
      "image: 0 \t PSNR: 29.42364543383322 \t mean PSNR: 29.42364543383322\n",
      "image: 1 \t PSNR: 32.84572708382499 \t mean PSNR: 31.134686258829106\n",
      "image: 2 \t PSNR: 30.25957836761473 \t mean PSNR: 30.84298362842431\n",
      "image: 3 \t PSNR: 28.59426017735991 \t mean PSNR: 30.280802765658212\n",
      "image: 4 \t PSNR: 29.33089157641584 \t mean PSNR: 30.09082052780974\n",
      "image: 5 \t PSNR: 28.435115446709915 \t mean PSNR: 29.81486968095977\n",
      "image: 6 \t PSNR: 28.8630950397398 \t mean PSNR: 29.6789018750712\n",
      "image: 7 \t PSNR: 32.05534507285568 \t mean PSNR: 29.97595727479426\n",
      "image: 8 \t PSNR: 30.657266799126788 \t mean PSNR: 30.051658333053428\n",
      "image: 9 \t PSNR: 29.859533676310793 \t mean PSNR: 30.032445867379163\n",
      "image: 10 \t PSNR: 29.618002772074355 \t mean PSNR: 29.994769222351454\n",
      "image: 11 \t PSNR: 29.7086479510399 \t mean PSNR: 29.97092578307549\n"
     ]
    }
   ],
   "source": [
    "# images = np.load(\"bsd68_groundtruth.npy\",allow_pickle=True)\n",
    "# images = imread(sorted(glob(\"Tampere17/*.tif\")))\n",
    "# data = np.load(\"Mouse_n0/test_data.npz\")\n",
    "# images = data[\"X_test\"]\n",
    "# images = imread(sorted(glob(\"/Users/prakash/Downloads/classic5/*.tif\")))\n",
    "images = []\n",
    "files = sorted(glob(\"/Users/prakash/Downloads/Set12/*.tif\"))\n",
    "for i in range(len(files)):\n",
    "    images.append(imread(files[i]))\n",
    "\n",
    "psnrs=[]\n",
    "for i in range(len(images)):\n",
    "# for i in range(images.shape[0]):\n",
    "    y = images[i]\n",
    "    y = y/255\n",
    "    gaussian_noise_std = 25/255\n",
    "\n",
    "    img = y+np.random.randn(y.shape[0], y.shape[1])*gaussian_noise_std\n",
    "    # Call BM3D With the default settings.\n",
    "    y_est = bm3d(img, sigma_psd=gaussian_noise_std)\n",
    "#     y_est = bm3d(img, gaussian_noise_std)\n",
    "#     rangePSNR = np.max(y)-np.min(y)\n",
    "    rangePSNR = 1\n",
    "    psnr = PSNR(y, y_est, rangePSNR)\n",
    "    psnrs.append(psnr)\n",
    "    print(\"image:\", i, \"\\t PSNR:\", psnr, \"\\t mean PSNR:\", np.mean(psnrs))\n",
    "\n",
    "    # PSNR ignoring 16-pixel wide borders (as used in the paper), due to refiltering potentially leaving artifacts\n",
    "    # on the pixels near the boundary of the image when noise is not circulant\n",
    "#     psnr_cropped = get_cropped_psnr(y, y_est, [16, 16])\n",
    "#     print(\"PSNR cropped:\", psnr_cropped)\n",
    "    "
   ]
  },
  {
   "cell_type": "code",
   "execution_count": 8,
   "metadata": {},
   "outputs": [
    {
     "data": {
      "text/plain": [
       "29.940833333333334"
      ]
     },
     "execution_count": 8,
     "metadata": {},
     "output_type": "execute_result"
    }
   ],
   "source": [
    "import numpy as np\n",
    "np.mean([29.40,32.84,30.16,28.56,29.25,28.42,28.86,32.04,30.65,29.85,29.58,29.68])"
   ]
  },
  {
   "cell_type": "code",
   "execution_count": null,
   "metadata": {
    "collapsed": true
   },
   "outputs": [],
   "source": []
  }
 ],
 "metadata": {
  "kernelspec": {
   "display_name": "bm3d",
   "language": "python",
   "name": "bm3d"
  },
  "language_info": {
   "codemirror_mode": {
    "name": "ipython",
    "version": 3
   },
   "file_extension": ".py",
   "mimetype": "text/x-python",
   "name": "python",
   "nbconvert_exporter": "python",
   "pygments_lexer": "ipython3",
   "version": "3.6.12"
  }
 },
 "nbformat": 4,
 "nbformat_minor": 2
}
